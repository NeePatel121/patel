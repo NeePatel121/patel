{
  "nbformat": 4,
  "nbformat_minor": 0,
  "metadata": {
    "colab": {
      "name": "Healthcare.ipynb",
      "provenance": [],
      "collapsed_sections": [],
      "authorship_tag": "ABX9TyO2gUMHkBQhJxo7YwyaQHMU",
      "include_colab_link": true
    },
    "kernelspec": {
      "display_name": "Python 3",
      "name": "python3"
    },
    "language_info": {
      "name": "python"
    },
    "widgets": {
      "application/vnd.jupyter.widget-state+json": {
        "cea2fb10acc04134b9fce80f4380a842": {
          "model_module": "@jupyter-widgets/controls",
          "model_name": "HBoxModel",
          "state": {
            "_view_name": "HBoxView",
            "_dom_classes": [],
            "_model_name": "HBoxModel",
            "_view_module": "@jupyter-widgets/controls",
            "_model_module_version": "1.5.0",
            "_view_count": null,
            "_view_module_version": "1.5.0",
            "box_style": "",
            "layout": "IPY_MODEL_217a1b4ca3434e2881791d9ff69cd004",
            "_model_module": "@jupyter-widgets/controls",
            "children": [
              "IPY_MODEL_0abb8128c8b0456eaf6ac60e16ee7341",
              "IPY_MODEL_9421de73f44c4aed8ae39b4e55b1f1c5"
            ]
          }
        },
        "217a1b4ca3434e2881791d9ff69cd004": {
          "model_module": "@jupyter-widgets/base",
          "model_name": "LayoutModel",
          "state": {
            "_view_name": "LayoutView",
            "grid_template_rows": null,
            "right": null,
            "justify_content": null,
            "_view_module": "@jupyter-widgets/base",
            "overflow": null,
            "_model_module_version": "1.2.0",
            "_view_count": null,
            "flex_flow": null,
            "width": null,
            "min_width": null,
            "border": null,
            "align_items": null,
            "bottom": null,
            "_model_module": "@jupyter-widgets/base",
            "top": null,
            "grid_column": null,
            "overflow_y": null,
            "overflow_x": null,
            "grid_auto_flow": null,
            "grid_area": null,
            "grid_template_columns": null,
            "flex": null,
            "_model_name": "LayoutModel",
            "justify_items": null,
            "grid_row": null,
            "max_height": null,
            "align_content": null,
            "visibility": null,
            "align_self": null,
            "height": null,
            "min_height": null,
            "padding": null,
            "grid_auto_rows": null,
            "grid_gap": null,
            "max_width": null,
            "order": null,
            "_view_module_version": "1.2.0",
            "grid_template_areas": null,
            "object_position": null,
            "object_fit": null,
            "grid_auto_columns": null,
            "margin": null,
            "display": null,
            "left": null
          }
        },
        "0abb8128c8b0456eaf6ac60e16ee7341": {
          "model_module": "@jupyter-widgets/controls",
          "model_name": "FloatProgressModel",
          "state": {
            "_view_name": "ProgressView",
            "style": "IPY_MODEL_2407d38fef494d1da2dbd7eeb8966dae",
            "_dom_classes": [],
            "description": "100%",
            "_model_name": "FloatProgressModel",
            "bar_style": "success",
            "max": 46827520,
            "_view_module": "@jupyter-widgets/controls",
            "_model_module_version": "1.5.0",
            "value": 46827520,
            "_view_count": null,
            "_view_module_version": "1.5.0",
            "orientation": "horizontal",
            "min": 0,
            "description_tooltip": null,
            "_model_module": "@jupyter-widgets/controls",
            "layout": "IPY_MODEL_dc09db948adb426ca915b9a2f048494a"
          }
        },
        "9421de73f44c4aed8ae39b4e55b1f1c5": {
          "model_module": "@jupyter-widgets/controls",
          "model_name": "HTMLModel",
          "state": {
            "_view_name": "HTMLView",
            "style": "IPY_MODEL_83ed17fca86d47b1a29525d262076d38",
            "_dom_classes": [],
            "description": "",
            "_model_name": "HTMLModel",
            "placeholder": "​",
            "_view_module": "@jupyter-widgets/controls",
            "_model_module_version": "1.5.0",
            "value": " 44.7M/44.7M [00:00&lt;00:00, 101MB/s]",
            "_view_count": null,
            "_view_module_version": "1.5.0",
            "description_tooltip": null,
            "_model_module": "@jupyter-widgets/controls",
            "layout": "IPY_MODEL_eb1c000bcdea41d7ad85786d903bb6ee"
          }
        },
        "2407d38fef494d1da2dbd7eeb8966dae": {
          "model_module": "@jupyter-widgets/controls",
          "model_name": "ProgressStyleModel",
          "state": {
            "_view_name": "StyleView",
            "_model_name": "ProgressStyleModel",
            "description_width": "initial",
            "_view_module": "@jupyter-widgets/base",
            "_model_module_version": "1.5.0",
            "_view_count": null,
            "_view_module_version": "1.2.0",
            "bar_color": null,
            "_model_module": "@jupyter-widgets/controls"
          }
        },
        "dc09db948adb426ca915b9a2f048494a": {
          "model_module": "@jupyter-widgets/base",
          "model_name": "LayoutModel",
          "state": {
            "_view_name": "LayoutView",
            "grid_template_rows": null,
            "right": null,
            "justify_content": null,
            "_view_module": "@jupyter-widgets/base",
            "overflow": null,
            "_model_module_version": "1.2.0",
            "_view_count": null,
            "flex_flow": null,
            "width": null,
            "min_width": null,
            "border": null,
            "align_items": null,
            "bottom": null,
            "_model_module": "@jupyter-widgets/base",
            "top": null,
            "grid_column": null,
            "overflow_y": null,
            "overflow_x": null,
            "grid_auto_flow": null,
            "grid_area": null,
            "grid_template_columns": null,
            "flex": null,
            "_model_name": "LayoutModel",
            "justify_items": null,
            "grid_row": null,
            "max_height": null,
            "align_content": null,
            "visibility": null,
            "align_self": null,
            "height": null,
            "min_height": null,
            "padding": null,
            "grid_auto_rows": null,
            "grid_gap": null,
            "max_width": null,
            "order": null,
            "_view_module_version": "1.2.0",
            "grid_template_areas": null,
            "object_position": null,
            "object_fit": null,
            "grid_auto_columns": null,
            "margin": null,
            "display": null,
            "left": null
          }
        },
        "83ed17fca86d47b1a29525d262076d38": {
          "model_module": "@jupyter-widgets/controls",
          "model_name": "DescriptionStyleModel",
          "state": {
            "_view_name": "StyleView",
            "_model_name": "DescriptionStyleModel",
            "description_width": "",
            "_view_module": "@jupyter-widgets/base",
            "_model_module_version": "1.5.0",
            "_view_count": null,
            "_view_module_version": "1.2.0",
            "_model_module": "@jupyter-widgets/controls"
          }
        },
        "eb1c000bcdea41d7ad85786d903bb6ee": {
          "model_module": "@jupyter-widgets/base",
          "model_name": "LayoutModel",
          "state": {
            "_view_name": "LayoutView",
            "grid_template_rows": null,
            "right": null,
            "justify_content": null,
            "_view_module": "@jupyter-widgets/base",
            "overflow": null,
            "_model_module_version": "1.2.0",
            "_view_count": null,
            "flex_flow": null,
            "width": null,
            "min_width": null,
            "border": null,
            "align_items": null,
            "bottom": null,
            "_model_module": "@jupyter-widgets/base",
            "top": null,
            "grid_column": null,
            "overflow_y": null,
            "overflow_x": null,
            "grid_auto_flow": null,
            "grid_area": null,
            "grid_template_columns": null,
            "flex": null,
            "_model_name": "LayoutModel",
            "justify_items": null,
            "grid_row": null,
            "max_height": null,
            "align_content": null,
            "visibility": null,
            "align_self": null,
            "height": null,
            "min_height": null,
            "padding": null,
            "grid_auto_rows": null,
            "grid_gap": null,
            "max_width": null,
            "order": null,
            "_view_module_version": "1.2.0",
            "grid_template_areas": null,
            "object_position": null,
            "object_fit": null,
            "grid_auto_columns": null,
            "margin": null,
            "display": null,
            "left": null
          }
        }
      }
    },
    "accelerator": "GPU"
  },
  "cells": [
    {
      "cell_type": "markdown",
      "metadata": {
        "id": "view-in-github",
        "colab_type": "text"
      },
      "source": [
        "<a href=\"https://colab.research.google.com/github/NeePatel121/patel/blob/main/Healthcare.ipynb\" target=\"_parent\"><img src=\"https://colab.research.google.com/assets/colab-badge.svg\" alt=\"Open In Colab\"/></a>"
      ]
    },
    {
      "cell_type": "code",
      "metadata": {
        "colab": {
          "base_uri": "https://localhost:8080/"
        },
        "id": "caVtZGVTEOCK",
        "outputId": "5420179d-00bd-46dc-ff02-4720eace0274"
      },
      "source": [
        "from google.colab import drive\n",
        "drive.mount('/content/drive')"
      ],
      "execution_count": 1,
      "outputs": [
        {
          "output_type": "stream",
          "text": [
            "Mounted at /content/drive\n"
          ],
          "name": "stdout"
        }
      ]
    },
    {
      "cell_type": "code",
      "metadata": {
        "id": "wbsww7UODxL2"
      },
      "source": [
        "!ln -s \"/content/drive/MyDrive/Colab Notebooks/Healthcare/Splitted\" \"/content/splitted\"\n",
        "!ln -s \"/content/drive/MyDrive/Colab Notebooks/Healthcare/utils1.py\" \"/content/\""
      ],
      "execution_count": 2,
      "outputs": []
    },
    {
      "cell_type": "code",
      "metadata": {
        "id": "LndyKwD8EwTs"
      },
      "source": [
        "import sys\n",
        "sys.path.insert(0,'/content/drive/MyDrive/Colab Notebooks/Healthcare')\n",
        "import os\n",
        "import shutil\n",
        "import random\n",
        "import utils\n",
        "import networks\n",
        "\n",
        "import numpy as np\n",
        "import matplotlib.pyplot as plt\n",
        "from plot_utils import plot_summary, plot_confmat, plot_gradcam\n",
        "from grad_cam import GradCAM\n",
        "\n",
        "import torch\n",
        "import torch.nn as nn\n",
        "import torch.optim as optim\n",
        "import torchvision.transforms as transforms\n",
        "import torchvision.datasets as datasets\n",
        "from torch.utils.data import DataLoader, WeightedRandomSampler"
      ],
      "execution_count": 44,
      "outputs": []
    },
    {
      "cell_type": "code",
      "metadata": {
        "id": "cBc8qUh-9B8Y"
      },
      "source": [
        "dirs = {\n",
        "    'train': '/content/splitted/train',\n",
        "    'val': '/content/splitted/val',\n",
        "    'test': '/content/splitted/test'\n",
        "}"
      ],
      "execution_count": 4,
      "outputs": []
    },
    {
      "cell_type": "code",
      "metadata": {
        "id": "j173VOGbGrAr"
      },
      "source": [
        "train_set = datasets.ImageFolder(root=dirs['train'], transform=transforms.ToTensor())\n",
        "val_set = datasets.ImageFolder(root=dirs['val'], transform=transforms.ToTensor())\n",
        "test_set = datasets.ImageFolder(root=dirs['test'], transform=transforms.ToTensor())\n",
        "train_loader = torch.utils.data.DataLoader(train_set, batch_size=16, shuffle=True, num_workers=2)"
      ],
      "execution_count": 5,
      "outputs": []
    },
    {
      "cell_type": "code",
      "metadata": {
        "colab": {
          "base_uri": "https://localhost:8080/"
        },
        "id": "GeCxZF-daI4z",
        "outputId": "07e20146-8ed7-4947-9a73-bdfecdf2215c"
      },
      "source": [
        "train_set.classes\n",
        "train_set.class_to_idx"
      ],
      "execution_count": 6,
      "outputs": [
        {
          "output_type": "execute_result",
          "data": {
            "text/plain": [
              "{'covid_19': 0, 'lung_opacity': 1, 'normal': 2, 'pneumonia': 3}"
            ]
          },
          "metadata": {
            "tags": []
          },
          "execution_count": 6
        }
      ]
    },
    {
      "cell_type": "code",
      "metadata": {
        "colab": {
          "base_uri": "https://localhost:8080/"
        },
        "id": "_BTOu4vgaWGa",
        "outputId": "a3228bbe-5d1e-4438-b4c5-4a229683885e"
      },
      "source": [
        "print(f'Number of Images in Train Set: {len(train_set)}')\n",
        "print(f'Number of Images in Validation Set: {len(val_set)}')\n",
        "print(f'Number of Images in Test Set: {len(test_set)}')"
      ],
      "execution_count": 7,
      "outputs": [
        {
          "output_type": "stream",
          "text": [
            "Number of Images in Train Set: 12712\n",
            "Number of Images in Validation Set: 240\n",
            "Number of Images in Test Set: 240\n"
          ],
          "name": "stdout"
        }
      ]
    },
    {
      "cell_type": "code",
      "metadata": {
        "id": "n-cwXGELaX0s"
      },
      "source": [
        "freq_train = torch.as_tensor(train_set.targets).bincount()\n",
        "freq_val = torch.as_tensor(val_set.targets).bincount()\n",
        "freq_test = torch.as_tensor(test_set.targets).bincount()\n",
        "freq_all = freq_train + freq_test + freq_val"
      ],
      "execution_count": 8,
      "outputs": []
    },
    {
      "cell_type": "code",
      "metadata": {
        "id": "L02MzAgsaakb"
      },
      "source": [
        "def log_freq(dset, dfreq):\n",
        "    for c, i in dset.class_to_idx.items():\n",
        "        print(f'Number of {c.capitalize()} X-Rays: {dfreq[i].item()}')"
      ],
      "execution_count": 9,
      "outputs": []
    },
    {
      "cell_type": "code",
      "metadata": {
        "colab": {
          "base_uri": "https://localhost:8080/"
        },
        "id": "o3b-4UxYaeOD",
        "outputId": "eb878194-e468-48e2-d3ec-603c58a196f0"
      },
      "source": [
        "print('========== Train Set ==========')\n",
        "log_freq(train_set, freq_train)\n",
        "print('======== Validation Set ========')\n",
        "log_freq(val_set, freq_val)\n",
        "print('=========== Test Set ===========')\n",
        "log_freq(test_set, freq_test)"
      ],
      "execution_count": 10,
      "outputs": [
        {
          "output_type": "stream",
          "text": [
            "========== Train Set ==========\n",
            "Number of Covid_19 X-Rays: 3496\n",
            "Number of Lung_opacity X-Rays: 2946\n",
            "Number of Normal X-Rays: 5045\n",
            "Number of Pneumonia X-Rays: 1225\n",
            "======== Validation Set ========\n",
            "Number of Covid_19 X-Rays: 60\n",
            "Number of Lung_opacity X-Rays: 60\n",
            "Number of Normal X-Rays: 60\n",
            "Number of Pneumonia X-Rays: 60\n",
            "=========== Test Set ===========\n",
            "Number of Covid_19 X-Rays: 60\n",
            "Number of Lung_opacity X-Rays: 60\n",
            "Number of Normal X-Rays: 60\n",
            "Number of Pneumonia X-Rays: 60\n"
          ],
          "name": "stdout"
        }
      ]
    },
    {
      "cell_type": "code",
      "metadata": {
        "colab": {
          "base_uri": "https://localhost:8080/",
          "height": 405
        },
        "id": "IdSpU1FnahbW",
        "outputId": "8a544765-560d-4f09-bd8d-17195ce93f26"
      },
      "source": [
        "plt.style.use('seaborn-notebook')\n",
        "\n",
        "plt.bar(train_set.classes, freq_all.numpy(), width=0.4)\n",
        "\n",
        "for i, v in enumerate(freq_all.numpy()):\n",
        "    plt.text(i-.2, v+100, str(v), fontweight='bold')\n",
        "\n",
        "plt.xlabel('Classes', fontweight='bold')\n",
        "plt.ylabel('Number of X-Rays', fontweight='bold')\n",
        "plt.title('Per-class frequency', fontweight='bold')\n",
        "\n",
        "plt.tight_layout()\n",
        "plt.savefig('/content/drive/MyDrive/Colab Notebooks/Healthcare/outputs/class_freq.png')\n",
        "\n",
        "plt.show()\n",
        "plt.close()"
      ],
      "execution_count": 11,
      "outputs": [
        {
          "output_type": "display_data",
          "data": {
            "image/png": "[encoded data removed]",
            "text/plain": [
              "<Figure size 576x396 with 1 Axes>"
            ]
          },
          "metadata": {
            "tags": [],
            "needs_background": "light"
          }
        }
      ]
    },
    {
      "cell_type": "code",
      "metadata": {
        "id": "Awwav7tKb5jr"
      },
      "source": [
        "import sys\n",
        "sys.path.insert(0,'/content/drive/MyDrive/Colab Notebooks/Healthcare')"
      ],
      "execution_count": 12,
      "outputs": []
    },
    {
      "cell_type": "code",
      "metadata": {
        "id": "-fadVUk8cDL6"
      },
      "source": [
        "import utils\n",
        "import networks\n",
        "from plot_utils import plot_summary"
      ],
      "execution_count": 13,
      "outputs": []
    },
    {
      "cell_type": "code",
      "metadata": {
        "id": "Xd5_Xz4-cLJ2"
      },
      "source": [
        "train_set = datasets.ImageFolder(root=dirs['train'], transform=utils.transform['train'])\n",
        "val_set = datasets.ImageFolder(root=dirs['val'], transform=utils.transform['eval'])"
      ],
      "execution_count": 14,
      "outputs": []
    },
    {
      "cell_type": "code",
      "metadata": {
        "id": "ylpg_bgQcTJ6"
      },
      "source": [
        "class_freq = torch.as_tensor(train_set.targets).bincount()\n",
        "weight = 1 / class_freq\n",
        "samples_weight = weight[train_set.targets]\n",
        "sampler = WeightedRandomSampler(samples_weight, len(samples_weight), replacement=True)\n",
        "\n",
        "train_dl = DataLoader(train_set, batch_size=32, sampler=sampler, num_workers=2, worker_init_fn=utils.wif)\n",
        "valid_dl = DataLoader(val_set, batch_size=40)"
      ],
      "execution_count": 15,
      "outputs": []
    },
    {
      "cell_type": "code",
      "metadata": {
        "id": "XLoIxRxdc54I"
      },
      "source": [
        "epochs = 30\n",
        "criterion = nn.CrossEntropyLoss()"
      ],
      "execution_count": 21,
      "outputs": []
    },
    {
      "cell_type": "code",
      "metadata": {
        "id": "-S6EgsI1Iu0-"
      },
      "source": [
        "!ln -s \"/content/drive/MyDrive/Colab Notebooks/Healthcare/Models\" \"/content/Models\""
      ],
      "execution_count": 17,
      "outputs": []
    },
    {
      "cell_type": "code",
      "metadata": {
        "id": "OyqLSEoUdcfG",
        "colab": {
          "base_uri": "https://localhost:8080/",
          "height": 85,
          "referenced_widgets": [
            "cea2fb10acc04134b9fce80f4380a842",
            "217a1b4ca3434e2881791d9ff69cd004",
            "0abb8128c8b0456eaf6ac60e16ee7341",
            "9421de73f44c4aed8ae39b4e55b1f1c5",
            "2407d38fef494d1da2dbd7eeb8966dae",
            "dc09db948adb426ca915b9a2f048494a",
            "83ed17fca86d47b1a29525d262076d38",
            "eb1c000bcdea41d7ad85786d903bb6ee"
          ]
        },
        "outputId": "f4996927-0daa-4502-efcd-a191db907fbe"
      },
      "source": [
        "resnet18 = networks.get_resnet18(pretrained=True, out_features=4)"
      ],
      "execution_count": 18,
      "outputs": [
        {
          "output_type": "stream",
          "text": [
            "Downloading: \"https://download.pytorch.org/models/resnet18-5c106cde.pth\" to /root/.cache/torch/hub/checkpoints/resnet18-5c106cde.pth\n"
          ],
          "name": "stderr"
        },
        {
          "output_type": "display_data",
          "data": {
            "application/vnd.jupyter.widget-view+json": {
              "model_id": "cea2fb10acc04134b9fce80f4380a842",
              "version_minor": 0,
              "version_major": 2
            },
            "text/plain": [
              "HBox(children=(FloatProgress(value=0.0, max=46827520.0), HTML(value='')))"
            ]
          },
          "metadata": {
            "tags": []
          }
        },
        {
          "output_type": "stream",
          "text": [
            "\n"
          ],
          "name": "stdout"
        }
      ]
    },
    {
      "cell_type": "code",
      "metadata": {
        "colab": {
          "base_uri": "https://localhost:8080/"
        },
        "id": "cAE9ety_eD7S",
        "outputId": "7934d90b-e738-42d7-f371-c81a08897fce"
      },
      "source": [
        "utils.fit(\n",
        "    epochs=epochs,\n",
        "    model=resnet18,\n",
        "    criterion=criterion,\n",
        "    optimizer=optim.Adam(resnet18.parameters(), lr=3e-5),\n",
        "    train_dl=train_dl,\n",
        "    valid_dl=valid_dl\n",
        ")"
      ],
      "execution_count": 22,
      "outputs": [
        {
          "output_type": "stream",
          "text": [
            "Epoch [ 1/30]: 100%|██████████| 398/398 [01:16<00:00,  5.24it/s, acc=0.607, loss=0.0172]\n",
            "  0%|          | 0/398 [00:00<?, ?it/s]"
          ],
          "name": "stderr"
        },
        {
          "output_type": "stream",
          "text": [
            "\n",
            "\t\tAvg train loss: 0.025752\tAvg valid loss: 0.134680\n",
            "\n",
            "\t\tvalid_loss decreased (inf -> 0.134680)\n",
            "\t\tsaving model...\n",
            "\n"
          ],
          "name": "stdout"
        },
        {
          "output_type": "stream",
          "text": [
            "Epoch [ 2/30]: 100%|██████████| 398/398 [01:10<00:00,  5.61it/s, acc=0.607, loss=0.368]\n",
            "  0%|          | 0/398 [00:00<?, ?it/s]"
          ],
          "name": "stderr"
        },
        {
          "output_type": "stream",
          "text": [
            "\n",
            "\t\tAvg train loss: 0.023860\tAvg valid loss: 0.155472\n",
            "\n"
          ],
          "name": "stdout"
        },
        {
          "output_type": "stream",
          "text": [
            "Epoch [ 3/30]: 100%|██████████| 398/398 [01:08<00:00,  5.82it/s, acc=0.608, loss=0.0193]\n",
            "  0%|          | 0/398 [00:00<?, ?it/s]"
          ],
          "name": "stderr"
        },
        {
          "output_type": "stream",
          "text": [
            "\n",
            "\t\tAvg train loss: 0.020804\tAvg valid loss: 0.099364\n",
            "\n",
            "\t\tvalid_loss decreased (0.134680 -> 0.099364)\n",
            "\t\tsaving model...\n",
            "\n"
          ],
          "name": "stdout"
        },
        {
          "output_type": "stream",
          "text": [
            "Epoch [ 4/30]: 100%|██████████| 398/398 [01:06<00:00,  5.95it/s, acc=0.611, loss=0.00115]\n",
            "  0%|          | 0/398 [00:00<?, ?it/s]"
          ],
          "name": "stderr"
        },
        {
          "output_type": "stream",
          "text": [
            "\n",
            "\t\tAvg train loss: 0.013721\tAvg valid loss: 0.093071\n",
            "\n",
            "\t\tvalid_loss decreased (0.099364 -> 0.093071)\n",
            "\t\tsaving model...\n",
            "\n"
          ],
          "name": "stdout"
        },
        {
          "output_type": "stream",
          "text": [
            "Epoch [ 5/30]: 100%|██████████| 398/398 [01:06<00:00,  5.97it/s, acc=0.612, loss=0.738]\n",
            "  0%|          | 0/398 [00:00<?, ?it/s]"
          ],
          "name": "stderr"
        },
        {
          "output_type": "stream",
          "text": [
            "\n",
            "\t\tAvg train loss: 0.009280\tAvg valid loss: 0.147305\n",
            "\n"
          ],
          "name": "stdout"
        },
        {
          "output_type": "stream",
          "text": [
            "Epoch [ 6/30]: 100%|██████████| 398/398 [01:06<00:00,  6.00it/s, acc=0.611, loss=0.0218]\n",
            "  0%|          | 0/398 [00:00<?, ?it/s]"
          ],
          "name": "stderr"
        },
        {
          "output_type": "stream",
          "text": [
            "\n",
            "\t\tAvg train loss: 0.011893\tAvg valid loss: 0.142581\n",
            "\n"
          ],
          "name": "stdout"
        },
        {
          "output_type": "stream",
          "text": [
            "Epoch [ 7/30]: 100%|██████████| 398/398 [01:05<00:00,  6.04it/s, acc=0.613, loss=0.0411]\n",
            "  0%|          | 0/398 [00:00<?, ?it/s]"
          ],
          "name": "stderr"
        },
        {
          "output_type": "stream",
          "text": [
            "\n",
            "\t\tAvg train loss: 0.007414\tAvg valid loss: 0.139913\n",
            "\n"
          ],
          "name": "stdout"
        },
        {
          "output_type": "stream",
          "text": [
            "Epoch [ 8/30]: 100%|██████████| 398/398 [01:06<00:00,  6.00it/s, acc=0.612, loss=0.00108]\n",
            "  0%|          | 0/398 [00:00<?, ?it/s]"
          ],
          "name": "stderr"
        },
        {
          "output_type": "stream",
          "text": [
            "\n",
            "\t\tAvg train loss: 0.008395\tAvg valid loss: 0.085229\n",
            "\n",
            "\t\tvalid_loss decreased (0.093071 -> 0.085229)\n",
            "\t\tsaving model...\n",
            "\n"
          ],
          "name": "stdout"
        },
        {
          "output_type": "stream",
          "text": [
            "Epoch [ 9/30]: 100%|██████████| 398/398 [01:05<00:00,  6.04it/s, acc=0.613, loss=0.015]\n",
            "  0%|          | 0/398 [00:00<?, ?it/s]"
          ],
          "name": "stderr"
        },
        {
          "output_type": "stream",
          "text": [
            "\n",
            "\t\tAvg train loss: 0.007001\tAvg valid loss: 0.106688\n",
            "\n"
          ],
          "name": "stdout"
        },
        {
          "output_type": "stream",
          "text": [
            "Epoch [10/30]: 100%|██████████| 398/398 [01:05<00:00,  6.05it/s, acc=0.612, loss=0.0177]\n",
            "  0%|          | 0/398 [00:00<?, ?it/s]"
          ],
          "name": "stderr"
        },
        {
          "output_type": "stream",
          "text": [
            "\n",
            "\t\tAvg train loss: 0.006801\tAvg valid loss: 0.134502\n",
            "\n"
          ],
          "name": "stdout"
        },
        {
          "output_type": "stream",
          "text": [
            "Epoch [11/30]: 100%|██████████| 398/398 [01:05<00:00,  6.06it/s, acc=0.613, loss=0.000118]\n",
            "  0%|          | 0/398 [00:00<?, ?it/s]"
          ],
          "name": "stderr"
        },
        {
          "output_type": "stream",
          "text": [
            "\n",
            "\t\tAvg train loss: 0.006261\tAvg valid loss: 0.143642\n",
            "\n"
          ],
          "name": "stdout"
        },
        {
          "output_type": "stream",
          "text": [
            "Epoch [12/30]: 100%|██████████| 398/398 [01:04<00:00,  6.12it/s, acc=0.613, loss=0.00104]\n",
            "  0%|          | 0/398 [00:00<?, ?it/s]"
          ],
          "name": "stderr"
        },
        {
          "output_type": "stream",
          "text": [
            "\n",
            "\t\tAvg train loss: 0.004315\tAvg valid loss: 0.125939\n",
            "\n"
          ],
          "name": "stdout"
        },
        {
          "output_type": "stream",
          "text": [
            "Epoch [13/30]: 100%|██████████| 398/398 [01:04<00:00,  6.13it/s, acc=0.613, loss=0.275]\n",
            "  0%|          | 0/398 [00:00<?, ?it/s]"
          ],
          "name": "stderr"
        },
        {
          "output_type": "stream",
          "text": [
            "\n",
            "\t\tAvg train loss: 0.005838\tAvg valid loss: 0.134958\n",
            "\n"
          ],
          "name": "stdout"
        },
        {
          "output_type": "stream",
          "text": [
            "Epoch [14/30]: 100%|██████████| 398/398 [01:05<00:00,  6.12it/s, acc=0.611, loss=0.000565]\n",
            "  0%|          | 0/398 [00:00<?, ?it/s]"
          ],
          "name": "stderr"
        },
        {
          "output_type": "stream",
          "text": [
            "\n",
            "\t\tAvg train loss: 0.010339\tAvg valid loss: 0.121181\n",
            "\n"
          ],
          "name": "stdout"
        },
        {
          "output_type": "stream",
          "text": [
            "Epoch [15/30]: 100%|██████████| 398/398 [01:05<00:00,  6.07it/s, acc=0.613, loss=0.000506]\n",
            "  0%|          | 0/398 [00:00<?, ?it/s]"
          ],
          "name": "stderr"
        },
        {
          "output_type": "stream",
          "text": [
            "\n",
            "\t\tAvg train loss: 0.004264\tAvg valid loss: 0.152752\n",
            "\n"
          ],
          "name": "stdout"
        },
        {
          "output_type": "stream",
          "text": [
            "Epoch [16/30]: 100%|██████████| 398/398 [01:05<00:00,  6.04it/s, acc=0.614, loss=0.000397]\n",
            "  0%|          | 0/398 [00:00<?, ?it/s]"
          ],
          "name": "stderr"
        },
        {
          "output_type": "stream",
          "text": [
            "\n",
            "\t\tAvg train loss: 0.003430\tAvg valid loss: 0.165738\n",
            "\n"
          ],
          "name": "stdout"
        },
        {
          "output_type": "stream",
          "text": [
            "Epoch [17/30]: 100%|██████████| 398/398 [01:06<00:00,  6.02it/s, acc=0.613, loss=0.00447]\n",
            "  0%|          | 0/398 [00:00<?, ?it/s]"
          ],
          "name": "stderr"
        },
        {
          "output_type": "stream",
          "text": [
            "\n",
            "\t\tAvg train loss: 0.005248\tAvg valid loss: 0.103408\n",
            "\n"
          ],
          "name": "stdout"
        },
        {
          "output_type": "stream",
          "text": [
            "Epoch [18/30]: 100%|██████████| 398/398 [01:05<00:00,  6.05it/s, acc=0.614, loss=0.028]\n",
            "  0%|          | 0/398 [00:00<?, ?it/s]"
          ],
          "name": "stderr"
        },
        {
          "output_type": "stream",
          "text": [
            "\n",
            "\t\tAvg train loss: 0.003016\tAvg valid loss: 0.189389\n",
            "\n"
          ],
          "name": "stdout"
        },
        {
          "output_type": "stream",
          "text": [
            "Epoch [19/30]: 100%|██████████| 398/398 [01:05<00:00,  6.05it/s, acc=0.613, loss=0.00145]\n",
            "  0%|          | 0/398 [00:00<?, ?it/s]"
          ],
          "name": "stderr"
        },
        {
          "output_type": "stream",
          "text": [
            "\n",
            "\t\tAvg train loss: 0.005133\tAvg valid loss: 0.211223\n",
            "\n"
          ],
          "name": "stdout"
        },
        {
          "output_type": "stream",
          "text": [
            "Epoch [20/30]: 100%|██████████| 398/398 [01:05<00:00,  6.08it/s, acc=0.613, loss=0.000364]\n",
            "  0%|          | 0/398 [00:00<?, ?it/s]"
          ],
          "name": "stderr"
        },
        {
          "output_type": "stream",
          "text": [
            "\n",
            "\t\tAvg train loss: 0.005134\tAvg valid loss: 0.191447\n",
            "\n"
          ],
          "name": "stdout"
        },
        {
          "output_type": "stream",
          "text": [
            "Epoch [21/30]: 100%|██████████| 398/398 [01:05<00:00,  6.04it/s, acc=0.614, loss=0.0432]\n",
            "  0%|          | 0/398 [00:00<?, ?it/s]"
          ],
          "name": "stderr"
        },
        {
          "output_type": "stream",
          "text": [
            "\n",
            "\t\tAvg train loss: 0.003321\tAvg valid loss: 0.182655\n",
            "\n"
          ],
          "name": "stdout"
        },
        {
          "output_type": "stream",
          "text": [
            "Epoch [22/30]: 100%|██████████| 398/398 [01:06<00:00,  6.02it/s, acc=0.613, loss=0.000742]\n",
            "  0%|          | 0/398 [00:00<?, ?it/s]"
          ],
          "name": "stderr"
        },
        {
          "output_type": "stream",
          "text": [
            "\n",
            "\t\tAvg train loss: 0.004265\tAvg valid loss: 0.178610\n",
            "\n"
          ],
          "name": "stdout"
        },
        {
          "output_type": "stream",
          "text": [
            "Epoch [23/30]: 100%|██████████| 398/398 [01:05<00:00,  6.08it/s, acc=0.614, loss=0.000834]\n",
            "  0%|          | 0/398 [00:00<?, ?it/s]"
          ],
          "name": "stderr"
        },
        {
          "output_type": "stream",
          "text": [
            "\n",
            "\t\tAvg train loss: 0.002583\tAvg valid loss: 0.151404\n",
            "\n"
          ],
          "name": "stdout"
        },
        {
          "output_type": "stream",
          "text": [
            "Epoch [24/30]: 100%|██████████| 398/398 [01:05<00:00,  6.08it/s, acc=0.614, loss=0.00311]\n",
            "  0%|          | 0/398 [00:00<?, ?it/s]"
          ],
          "name": "stderr"
        },
        {
          "output_type": "stream",
          "text": [
            "\n",
            "\t\tAvg train loss: 0.002913\tAvg valid loss: 0.156671\n",
            "\n"
          ],
          "name": "stdout"
        },
        {
          "output_type": "stream",
          "text": [
            "Epoch [25/30]: 100%|██████████| 398/398 [01:05<00:00,  6.11it/s, acc=0.613, loss=0.305]\n",
            "  0%|          | 0/398 [00:00<?, ?it/s]"
          ],
          "name": "stderr"
        },
        {
          "output_type": "stream",
          "text": [
            "\n",
            "\t\tAvg train loss: 0.003631\tAvg valid loss: 0.163324\n",
            "\n"
          ],
          "name": "stdout"
        },
        {
          "output_type": "stream",
          "text": [
            "Epoch [26/30]: 100%|██████████| 398/398 [01:06<00:00,  6.03it/s, acc=0.612, loss=0.000699]\n",
            "  0%|          | 0/398 [00:00<?, ?it/s]"
          ],
          "name": "stderr"
        },
        {
          "output_type": "stream",
          "text": [
            "\n",
            "\t\tAvg train loss: 0.008365\tAvg valid loss: 0.150734\n",
            "\n"
          ],
          "name": "stdout"
        },
        {
          "output_type": "stream",
          "text": [
            "Epoch [27/30]: 100%|██████████| 398/398 [01:05<00:00,  6.11it/s, acc=0.614, loss=6.07e-5]\n",
            "  0%|          | 0/398 [00:00<?, ?it/s]"
          ],
          "name": "stderr"
        },
        {
          "output_type": "stream",
          "text": [
            "\n",
            "\t\tAvg train loss: 0.001896\tAvg valid loss: 0.177532\n",
            "\n"
          ],
          "name": "stdout"
        },
        {
          "output_type": "stream",
          "text": [
            "Epoch [28/30]: 100%|██████████| 398/398 [01:06<00:00,  6.03it/s, acc=0.614, loss=0.00235]\n",
            "  0%|          | 0/398 [00:00<?, ?it/s]"
          ],
          "name": "stderr"
        },
        {
          "output_type": "stream",
          "text": [
            "\n",
            "\t\tAvg train loss: 0.002380\tAvg valid loss: 0.163191\n",
            "\n"
          ],
          "name": "stdout"
        },
        {
          "output_type": "stream",
          "text": [
            "Epoch [29/30]: 100%|██████████| 398/398 [01:05<00:00,  6.04it/s, acc=0.614, loss=0.00188]\n",
            "  0%|          | 0/398 [00:00<?, ?it/s]"
          ],
          "name": "stderr"
        },
        {
          "output_type": "stream",
          "text": [
            "\n",
            "\t\tAvg train loss: 0.003079\tAvg valid loss: 0.193720\n",
            "\n"
          ],
          "name": "stdout"
        },
        {
          "output_type": "stream",
          "text": [
            "Epoch [30/30]: 100%|██████████| 398/398 [01:06<00:00,  6.02it/s, acc=0.614, loss=0.000165]\n"
          ],
          "name": "stderr"
        },
        {
          "output_type": "stream",
          "text": [
            "\n",
            "\t\tAvg train loss: 0.001969\tAvg valid loss: 0.241627\n",
            "\n"
          ],
          "name": "stdout"
        }
      ]
    },
    {
      "cell_type": "code",
      "metadata": {
        "colab": {
          "base_uri": "https://localhost:8080/",
          "height": 297
        },
        "id": "G-_VdLZGeJC5",
        "outputId": "dc711c30-1dd5-426b-8077-a0fe6c7c44e8"
      },
      "source": [
        "plot_summary('/content/drive/MyDrive/Colab Notebooks/Healthcare/outputs/CSVs/resnet.csv')"
      ],
      "execution_count": 23,
      "outputs": [
        {
          "output_type": "display_data",
          "data": {
            "image/png": "[encoded data removed]",
            "text/plain": [
              "<Figure size 1008x288 with 2 Axes>"
            ]
          },
          "metadata": {
            "tags": []
          }
        }
      ]
    },
    {
      "cell_type": "code",
      "metadata": {
        "id": "0yY4bKbNqut-"
      },
      "source": [
        "device = torch.device('cuda' if torch.cuda.is_available() else 'cpu')"
      ],
      "execution_count": 24,
      "outputs": []
    },
    {
      "cell_type": "code",
      "metadata": {
        "id": "atB35_kQPKd6"
      },
      "source": [
        "train_set = datasets.ImageFolder(root=dirs['train'], transform=utils.transform['eval'])\n",
        "test_set = datasets.ImageFolder(root=dirs['test'], transform=utils.transform['eval'])\n",
        "train_dl = DataLoader(train_set, batch_size=512)\n",
        "test_dl = DataLoader(test_set, batch_size=120)"
      ],
      "execution_count": 25,
      "outputs": []
    },
    {
      "cell_type": "code",
      "metadata": {
        "id": "WYm6uz3cSjE0"
      },
      "source": [
        "!ln -s \"/content/drive/MyDrive/Colab Notebooks/Healthcare/models\" \"/content/models\""
      ],
      "execution_count": null,
      "outputs": []
    },
    {
      "cell_type": "code",
      "metadata": {
        "id": "-Ld7F9IIPOq1"
      },
      "source": [
        "resnet18 = networks.get_resnet18(out_features=4, path='/content/Models/lr3e-5_resnet_cuda.pth')\n"
      ],
      "execution_count": 27,
      "outputs": []
    },
    {
      "cell_type": "code",
      "metadata": {
        "id": "kKdzBGEBWUH3"
      },
      "source": [
        "train_preds = utils.get_all_preds(resnet18, train_dl)"
      ],
      "execution_count": 28,
      "outputs": []
    },
    {
      "cell_type": "code",
      "metadata": {
        "id": "vk94_37sWbQ4"
      },
      "source": [
        "test_preds = utils.get_all_preds(resnet18, test_dl)"
      ],
      "execution_count": 29,
      "outputs": []
    },
    {
      "cell_type": "code",
      "metadata": {
        "colab": {
          "base_uri": "https://localhost:8080/"
        },
        "id": "t70PR_KWbN9T",
        "outputId": "51a2d429-e2a1-4600-f045-082975b989ed"
      },
      "source": [
        "train_preds.shape, test_preds.shape"
      ],
      "execution_count": 30,
      "outputs": [
        {
          "output_type": "execute_result",
          "data": {
            "text/plain": [
              "(torch.Size([12712, 4]), torch.Size([240, 4]))"
            ]
          },
          "metadata": {
            "tags": []
          },
          "execution_count": 30
        }
      ]
    },
    {
      "cell_type": "code",
      "metadata": {
        "colab": {
          "base_uri": "https://localhost:8080/"
        },
        "id": "rrsuMs9BPnpb",
        "outputId": "4d09fd06-bc68-45af-9e3e-46d57dae3ee6"
      },
      "source": [
        "train_correct = utils.get_num_correct(train_preds, torch.as_tensor(train_set.targets, device=device))\n",
        "test_correct = utils.get_num_correct(test_preds, torch.as_tensor(test_set.targets, device=device))\n",
        "\n",
        "print(f'Train Correct: {train_correct:5}\\tTrain Accuracy: {(100*train_correct/len(train_set)):5.2f}%')\n",
        "print(f'Test Correct: {test_correct:6}\\tTest Accuracy: {(100*test_correct/len(test_set)):6.2f}%')"
      ],
      "execution_count": 32,
      "outputs": [
        {
          "output_type": "stream",
          "text": [
            "Train Correct: 12678\tTrain Accuracy: 99.73%\n",
            "Test Correct:    232\tTest Accuracy:  96.67%\n"
          ],
          "name": "stdout"
        }
      ]
    },
    {
      "cell_type": "code",
      "metadata": {
        "colab": {
          "base_uri": "https://localhost:8080/",
          "height": 441
        },
        "id": "U1CzmcDUj8kX",
        "outputId": "44fe0722-9839-43ec-edb0-abca82e54154"
      },
      "source": [
        "train_confmat = utils.get_confmat(train_set.targets, train_preds)\n",
        "test_confmat = utils.get_confmat(test_set.targets, test_preds)\n",
        "plot_confmat(train_confmat, test_confmat, train_set.classes, f'{type(resnet18).__name__.lower()}')\n"
      ],
      "execution_count": 35,
      "outputs": [
        {
          "output_type": "display_data",
          "data": {
            "image/png": "[encoded data removed]",
            "text/plain": [
              "<Figure size 1152x432 with 4 Axes>"
            ]
          },
          "metadata": {
            "tags": []
          }
        }
      ]
    },
    {
      "cell_type": "code",
      "metadata": {
        "id": "cS4goTpxkC6R",
        "colab": {
          "base_uri": "https://localhost:8080/"
        },
        "outputId": "020d1a11-79f9-404e-faa0-0db006b7b279"
      },
      "source": [
        "results = utils.get_results(test_confmat, test_set.classes)\n",
        "results"
      ],
      "execution_count": 36,
      "outputs": [
        {
          "output_type": "execute_result",
          "data": {
            "text/plain": [
              "{'covid_19': [0.9957081545064378, 1.0, 0.9833333333333333, 0.9915966386554621],\n",
              " 'lung_opacity': [0.9707112970711297,\n",
              "  0.9818181818181818,\n",
              "  0.9,\n",
              "  0.9391304347826087],\n",
              " 'normal': [0.9707112970711297, 0.9076923076923077, 0.9833333333333333, 0.944],\n",
              " 'pneumonia': [0.9957081545064378,\n",
              "  0.9836065573770492,\n",
              "  1.0,\n",
              "  0.9917355371900827]}"
            ]
          },
          "metadata": {
            "tags": []
          },
          "execution_count": 36
        }
      ]
    },
    {
      "cell_type": "code",
      "metadata": {
        "id": "rjWI0sMgF91D"
      },
      "source": [
        ""
      ],
      "execution_count": null,
      "outputs": []
    }
  ]
}